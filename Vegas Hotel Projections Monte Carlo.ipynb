{
 "cells": [
  {
   "cell_type": "code",
   "execution_count": 1,
   "metadata": {},
   "outputs": [],
   "source": [
    "import random\n",
    "import matplotlib.pyplot as plt"
   ]
  },
  {
   "cell_type": "markdown",
   "metadata": {},
   "source": [
    "#### Vegas Hotel Projections"
   ]
  },
  {
   "cell_type": "code",
   "execution_count": 2,
   "metadata": {},
   "outputs": [],
   "source": [
    "# generates a profile for the competitor\n",
    "def generate_competitor_profile(total_years, minimum_years):\n",
    "    profile = [0]\n",
    "    for i in range (1,total_years):\n",
    "        #if no hotels are currently build, the next year, we always have option to build a new hotel\n",
    "        if profile[-1] == 0:\n",
    "            profile.append(random.randint(profile[-1], profile[-1]+1))\n",
    "        else:\n",
    "            #if m years have past building same hotel, we have choice to start building new hotel\n",
    "            try:\n",
    "                if profile[-1] == profile[-minimum_years]:\n",
    "                    profile.append(random.randint(profile[-1], profile[-1]+1))\n",
    "            #if it has not been m years yet, we keep building same hotel\n",
    "                else:\n",
    "                    profile.append(profile[-1])\n",
    "            except:\n",
    "                profile.append(profile[-1])\n",
    "    return profile"
   ]
  },
  {
   "cell_type": "code",
   "execution_count": 3,
   "metadata": {},
   "outputs": [],
   "source": [
    "#using a competitor profile, the function forcasts the profit using the giving model\n",
    "def forecast_profit(competitor_profile):\n",
    "    profit = 0\n",
    "    for i in range(0,len(competitor_profile)):\n",
    "        profit += (750 + 50*(i+1))/(competitor_profile[i]+1)  \n",
    "    return profit"
   ]
  },
  {
   "cell_type": "code",
   "execution_count": 4,
   "metadata": {},
   "outputs": [],
   "source": [
    "#gets all the profile options into a set so that we can randomly sample from it, \n",
    "#giving each profile option an equal chance of being picked\n",
    "def get_profile_options(total_years,minimum_years): \n",
    "    profile_options = []\n",
    "    for i in range(100000):\n",
    "        profile = generate_competitor_profile(total_years, minimum_years)\n",
    "        if profile not in profile_options:\n",
    "            profile_options.append(profile)\n",
    "    return profile_options"
   ]
  },
  {
   "cell_type": "code",
   "execution_count": 5,
   "metadata": {},
   "outputs": [],
   "source": [
    "#uses a monte carlo simulation to get the expected profit\n",
    "def expected_value_monte_carlo():\n",
    "    profile_options = get_profile_options(10,2)\n",
    "    total_profits = 0\n",
    "    for i in range(1000):\n",
    "        total_profits += forecast_profit(random.choice(profile_options))\n",
    "    return(total_profits/1000)"
   ]
  },
  {
   "cell_type": "code",
   "execution_count": 6,
   "metadata": {},
   "outputs": [
    {
     "name": "stdout",
     "output_type": "stream",
     "text": [
      "The expected profit is $5,340.31\n"
     ]
    }
   ],
   "source": [
    "print(\"The expected profit is\", \"${:,.2f}\".format(expected_value_monte_carlo()))"
   ]
  }
 ],
 "metadata": {
  "kernelspec": {
   "display_name": "Python 3",
   "language": "python",
   "name": "python3"
  },
  "language_info": {
   "codemirror_mode": {
    "name": "ipython",
    "version": 3
   },
   "file_extension": ".py",
   "mimetype": "text/x-python",
   "name": "python",
   "nbconvert_exporter": "python",
   "pygments_lexer": "ipython3",
   "version": "3.7.4"
  }
 },
 "nbformat": 4,
 "nbformat_minor": 2
}
