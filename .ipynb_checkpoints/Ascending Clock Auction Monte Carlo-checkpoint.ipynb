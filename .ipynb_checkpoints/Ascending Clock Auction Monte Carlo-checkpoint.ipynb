{
 "cells": [
  {
   "cell_type": "code",
   "execution_count": 1,
   "metadata": {},
   "outputs": [],
   "source": [
    "import random\n",
    "import matplotlib.pyplot as plt"
   ]
  },
  {
   "cell_type": "markdown",
   "metadata": {},
   "source": [
    "#### Ascending Clock Auction"
   ]
  },
  {
   "cell_type": "code",
   "execution_count": 2,
   "metadata": {},
   "outputs": [],
   "source": [
    "#generates a specified number of buyers with values randomly chosen between 0 and 100, with an increment of 5.\n",
    "def generate_buyers(num_buyers):\n",
    "    buyers = []\n",
    "    for buyer in range(num_buyers):\n",
    "        buyers.append((random.randrange(0, 101, 5)))\n",
    "    return buyers"
   ]
  },
  {
   "cell_type": "code",
   "execution_count": 3,
   "metadata": {},
   "outputs": [],
   "source": [
    "#runs the auction recursively for each new clock price\n",
    "#when the auction ends, it returns the revenue\n",
    "def ascending_clock_auction(bidders, reserve, clock_increment, bid = None, current_price = None):\n",
    "    \n",
    "    remaining_bidders = []\n",
    "    \n",
    "    #at start of auction, set current price to reserve\n",
    "    if bid == None:\n",
    "        current_price = reserve\n",
    "        \n",
    "    #in each round, only keep bidders who meet the current price\n",
    "    remaining_bidders = [bidder for bidder in bidders if bidder >= current_price]\n",
    "\n",
    "    #in first round, if no one meets reserve, revenue = 0\n",
    "    if bid == None and len(remaining_bidders) == 0: \n",
    "        return 0\n",
    "            \n",
    "    #when there are multiples bidders remaining, save the bid, add clock increment, and recurse\n",
    "    if len(remaining_bidders) > 1:\n",
    "        bid = current_price \n",
    "        current_price += clock_increment\n",
    "        return ascending_clock_auction(remaining_bidders, reserve, clock_increment, bid, current_price)\n",
    "      \n",
    "    #condition for exactly 1 remaining bidder\n",
    "    elif len(remaining_bidders) == 1:\n",
    "        if bid == None:\n",
    "            bid = current_price\n",
    "        if bid >= reserve:\n",
    "            return bid\n",
    "        else:\n",
    "            return reserve\n",
    "    \n",
    "    #if no bidders remain, revenue = last bid price (last price with multiple bidders)\n",
    "    else:\n",
    "        return bid "
   ]
  },
  {
   "cell_type": "code",
   "execution_count": 4,
   "metadata": {},
   "outputs": [],
   "source": [
    "#runs monte carlo of ascending clock auction\n",
    "def ascending_clock_Monte_Carlo(num_buyers, reserve, clock_increment, samples = 1000):\n",
    "    rev_sum = 0\n",
    "    for i in range(samples):\n",
    "        rev_sum += ascending_clock_auction(generate_buyers(num_buyers), reserve, clock_increment)\n",
    "    return(rev_sum/ samples)"
   ]
  },
  {
   "cell_type": "code",
   "execution_count": 5,
   "metadata": {},
   "outputs": [
    {
     "name": "stdout",
     "output_type": "stream",
     "text": [
      "\n",
      "Expected revenue with 5 buyers and $1 clock increment:  $67.51\n",
      "\n",
      "Expected revenue with 5 buyers and $10 clock increment:  $64.53\n",
      "\n",
      "Expected revenue with 20 buyers and $1 clock increment:  $92.67\n"
     ]
    }
   ],
   "source": [
    "print(\"\\nExpected revenue with 5 buyers and $1 clock increment: \", \"${:,.2f}\".format(ascending_clock_Monte_Carlo(5,0,1)))\n",
    "print(\"\\nExpected revenue with 5 buyers and $10 clock increment: \", \"${:,.2f}\".format(ascending_clock_Monte_Carlo(5,0,10)))\n",
    "print(\"\\nExpected revenue with 20 buyers and $1 clock increment: \", \"${:,.2f}\".format(ascending_clock_Monte_Carlo(20,0,1)))"
   ]
  },
  {
   "cell_type": "markdown",
   "metadata": {},
   "source": [
    "With the above results we can see that the having a larger clock increment (in our case, at least, changing the clock increment from 1 to 10) decreases the expected value by a small amount. This makes sense because with an ascending clock auction, the revenue will be the value of the last time multiple buyers placed a bid. Thus, if the clock increment is higher, we may have to skip back further to get the expected value. As an example, if we have 5 bidders: [20, 25, 30, 35, 40], and a clock increment of \\\\$1, the last time that 2 bidders bid would be at price \\\\$35, so the revenue would be 35. On the other hand, if we had a clock increment of $10, the last time that we would have 2 bidders is at price \\\\$30, so our revenue would be \\\\$30, which is less than our clock increment of \\\\$1.\n",
    "\n",
    "Now, we see that with 20 buyers we get a much higher expected value than only 5 buyers. This is because with 20 buyers, we have a much higher chance that there will be buyers with higher values. When bidders have higher values, or budgets, the auction will have a higher revenue."
   ]
  },
  {
   "cell_type": "code",
   "execution_count": 6,
   "metadata": {},
   "outputs": [],
   "source": [
    "#uses monte carlo simulation function to find the expected revenue of each of the reserve prices\n",
    "#returns an array of all reserve prices, array of all their respective revenues, and the optimal reserve price\n",
    "def find_reserve_price():\n",
    "    reserve_price_array = []\n",
    "    revenue_array = []\n",
    "    samples = 10000\n",
    "    for reserve_price in range(0,101,5):\n",
    "        reserve_price_array.append(reserve_price)\n",
    "        revenue_array.append(ascending_clock_Monte_Carlo(5, reserve_price, 5, samples))\n",
    "    return reserve_price_array, revenue_array, reserve_price_array[revenue_array.index(max(revenue_array))]"
   ]
  },
  {
   "cell_type": "code",
   "execution_count": 8,
   "metadata": {},
   "outputs": [
    {
     "data": {
      "text/plain": [
       "<BarContainer object of 21 artists>"
      ]
     },
     "execution_count": 8,
     "metadata": {},
     "output_type": "execute_result"
    },
    {
     "data": {
      "image/png": "[encoded data removed]",
      "text/plain": [
       "<Figure size 432x288 with 1 Axes>"
      ]
     },
     "metadata": {
      "needs_background": "light"
     },
     "output_type": "display_data"
    }
   ],
   "source": [
    "reserve_price_array, revenue_array, optimal_price = find_reserve_price()\n",
    "plt.title(\"Optimal Reserve Price: $%1.d\" % optimal_price)\n",
    "plt.plot(reserve_price_array, revenue_array, color = 'g')\n",
    "plt.bar(reserve_price_array, revenue_array, width = 3)\n"
   ]
  },
  {
   "cell_type": "markdown",
   "metadata": {},
   "source": [
    "You can see on the above visualization that up until a reserve of \\\\$65, the revenues are pretty consistent, and they take a big dip after as the reserve increases. However, we can see that the optimal reserve price, although not much different than the lower reserve prices, is consistently either \\\\$55 and \\\\$60.  These generate the highest revenues."
   ]
  }
 ],
 "metadata": {
  "kernelspec": {
   "display_name": "Python 3",
   "language": "python",
   "name": "python3"
  },
  "language_info": {
   "codemirror_mode": {
    "name": "ipython",
    "version": 3
   },
   "file_extension": ".py",
   "mimetype": "text/x-python",
   "name": "python",
   "nbconvert_exporter": "python",
   "pygments_lexer": "ipython3",
   "version": "3.7.4"
  }
 },
 "nbformat": 4,
 "nbformat_minor": 2
}
