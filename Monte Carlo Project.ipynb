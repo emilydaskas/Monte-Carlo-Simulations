{
 "cells": [
  {
   "cell_type": "markdown",
   "metadata": {},
   "source": [
    "## Project 1: Monte Carlo Simulations\n",
    "Emily Daskas"
   ]
  },
  {
   "cell_type": "code",
   "execution_count": 15,
   "metadata": {},
   "outputs": [],
   "source": [
    "#Emily Daskas\n",
    "import random\n",
    "import matplotlib.pyplot as plt"
   ]
  },
  {
   "cell_type": "markdown",
   "metadata": {},
   "source": [
    "#### Ascending Clock Auction"
   ]
  },
  {
   "cell_type": "code",
   "execution_count": 16,
   "metadata": {},
   "outputs": [],
   "source": [
    "#generates a specified number of buyers with values randomly chosen between 0 and 100, \n",
    "#with an increment of 5.\n",
    "def generate_buyers(num_buyers):\n",
    "    buyers = []\n",
    "    for buyer in range(num_buyers):\n",
    "        buyers.append((random.randrange(0, 101, 5)))\n",
    "    return buyers"
   ]
  },
  {
   "cell_type": "code",
   "execution_count": 17,
   "metadata": {},
   "outputs": [],
   "source": [
    "#generates a random reserve price\n",
    "def generate_reserve_price():\n",
    "    return random.randrange(0, 101, 5)"
   ]
  },
  {
   "cell_type": "code",
   "execution_count": 18,
   "metadata": {},
   "outputs": [],
   "source": [
    "#runs the auction recursively\n",
    "#when the auction ends, it returns the revenue\n",
    "def ascending_clock_auction(bidders, reserve, clock_increment, bid = None, current_price = None):\n",
    "    remaining_bidders = []\n",
    "    \n",
    "    #at the start of the auction, set the current auction price ot the reserve (starting price)\n",
    "    if bid == None:\n",
    "        current_price = reserve\n",
    "        \n",
    "    #only keep bidders who meet the current price\n",
    "    for bidder in bidders:\n",
    "        if bidder >= current_price:\n",
    "            remaining_bidders.append(bidder) \n",
    "\n",
    "    #if none of the bidders meet the starting price (reserve), revenue will be 0\n",
    "    if bid == None and len(remaining_bidders) == 0: \n",
    "        return 0\n",
    "            \n",
    "    #auction is not over, set bid price and increment current price by clock increment, and run function again\n",
    "    if len(remaining_bidders) > 1:\n",
    "        bid = current_price\n",
    "        current_price += clock_increment\n",
    "        return ascending_clock_auction(remaining_bidders, reserve, clock_increment, bid, current_price)\n",
    "      \n",
    "    #if one bidder remains, revenue is the last bidding price with multiple bidders or reserve price if the prior does not meet reserve price\n",
    "    elif len(remaining_bidders) == 1:\n",
    "        if bid == None:\n",
    "            bid = current_price\n",
    "        if bid >= reserve:\n",
    "            return bid\n",
    "        else:\n",
    "            return reserve\n",
    "    \n",
    "    #if no bidders remain, revenue last bid price\n",
    "    else:\n",
    "        return bid\n",
    "    "
   ]
  },
  {
   "cell_type": "code",
   "execution_count": 19,
   "metadata": {},
   "outputs": [],
   "source": [
    "#runs monte carlo of ascending clock auction\n",
    "def ascending_clock_Monte_Carlo(num_buyers, clock_increment, samples = 1000):\n",
    "    rev_sum = 0\n",
    "    for i in range(samples):\n",
    "        rev_sum += ascending_clock_auction(generate_buyers(num_buyers), 0, clock_increment)\n",
    "    return(rev_sum/ samples)"
   ]
  },
  {
   "cell_type": "code",
   "execution_count": 20,
   "metadata": {},
   "outputs": [
    {
     "name": "stdout",
     "output_type": "stream",
     "text": [
      "\n",
      "Expected value with 5 buyers and $1 clock increment:  $68.61\n",
      "\n",
      "Expected value with 5 buyers and $10 clock increment:  $65.65\n",
      "\n",
      "Expected value  with 20 buyers and $1 clock increment:  $92.47\n"
     ]
    }
   ],
   "source": [
    "print(\"\\nExpected value with 5 buyers and $1 clock increment: \", \"${:,.2f}\".format(ascending_clock_Monte_Carlo(5, 1)))\n",
    "print(\"\\nExpected value with 5 buyers and $10 clock increment: \", \"${:,.2f}\".format(ascending_clock_Monte_Carlo(5, 10)))\n",
    "print(\"\\nExpected value  with 20 buyers and $1 clock increment: \", \"${:,.2f}\".format(ascending_clock_Monte_Carlo(20, 1)))"
   ]
  },
  {
   "cell_type": "markdown",
   "metadata": {},
   "source": [
    "With the above results we can see that the having a larger clock increment (in our case, at least, changing the clock increment from 1 to 10) decreases the expected value by a small amount. This makes sense because with an ascending clock auction, the revenue will be the value of the last time multiple buyers placed a bid. Thus, if the clock increment is higher, we may have to skip back further to get the expected value. As an example, if we have 5 bidders: [20, 25, 30, 35, 40], and a clock increment of \\\\$1. The last time that 2 bidders bid would be at price 35, so the revenue would be 35. On the other hand, if we had a clock increment of $10, the last time that we would have 2 bidders is at price \\\\$30, so our revenue would be \\\\$30, slighlty less than our clock increment of \\\\$1.\n",
    "\n",
    "Now, we see that with 20 buyers we get a much higher expected value than only 5 buyers. This is because with 20 buyers, we have a much higher chance that there will be buyers with higher values. When bidders have higher values, or budgets, the auction will have a higher revenue."
   ]
  },
  {
   "cell_type": "code",
   "execution_count": 21,
   "metadata": {},
   "outputs": [],
   "source": [
    "#finds the optimal reserve price, all of the reserve prices as well as their respective revenues\n",
    "def find_reserve_price():\n",
    "    reserve_price_array = []\n",
    "    revenue_array = []\n",
    "    samples = 10000\n",
    "    for reserve_price in range(0,101,5):\n",
    "        reserve_price_array.append(reserve_price)\n",
    "        revs = 0\n",
    "        for i in range(samples):\n",
    "            revs += ascending_clock_auction(generate_buyers(5), reserve_price, 5)\n",
    "        revenue_array.append(revs/samples)\n",
    "    return reserve_price_array, revenue_array, reserve_price_array[revenue_array.index(max(revenue_array))]"
   ]
  },
  {
   "cell_type": "code",
   "execution_count": 22,
   "metadata": {},
   "outputs": [
    {
     "data": {
      "text/plain": [
       "<BarContainer object of 21 artists>"
      ]
     },
     "execution_count": 22,
     "metadata": {},
     "output_type": "execute_result"
    },
    {
     "data": {
      "image/png": "[encoded data removed]",
      "text/plain": [
       "<Figure size 432x288 with 1 Axes>"
      ]
     },
     "metadata": {
      "needs_background": "light"
     },
     "output_type": "display_data"
    }
   ],
   "source": [
    "reserve_price_array, revenue_array, optimal_price = find_reserve_price()\n",
    "plt.title(\"Optimal Reserve Price: %1.d\" % optimal_price)\n",
    "plt.plot(reserve_price_array, revenue_array, color = 'g')\n",
    "plt.bar(reserve_price_array, revenue_array, width = 3)\n"
   ]
  },
  {
   "cell_type": "markdown",
   "metadata": {},
   "source": [
    "You can see on the above visualization that up until \\\\$65 the revenues are pretty consistent, and take a big dip after as the reserve increases. However, when running this monte carlo simulation, we cna see that the optimal reserve price, although not much higher than lower reserve prices, is consistently either \\\\$55 and \\\\$60.  These generate the highest revenues."
   ]
  },
  {
   "cell_type": "markdown",
   "metadata": {},
   "source": [
    "#### Vegas Hotel Projections"
   ]
  },
  {
   "cell_type": "code",
   "execution_count": 23,
   "metadata": {},
   "outputs": [],
   "source": [
    "# generates a profile for the competitor\n",
    "def generate_competitor_profile():\n",
    "    profile = [0]\n",
    "    for i in range (1,10):\n",
    "        #if it is the first index or the last index in current array = 0, choose between 0 and 1 for next index\n",
    "        if profile[-1] == 0:\n",
    "            profile.append(random.randint(profile[-1], profile[-1]+1))\n",
    "        else:\n",
    "            #if there are two in a row equal to eachother \n",
    "            #(it takes 2 years to build a hotel), we choose between current hotel and starting a new hotel\n",
    "            if profile[-1] == profile[-2]:\n",
    "                profile.append(random.randint(profile[-1], profile[-1]+1))\n",
    "            #if it has not been 2 years yet, we keep building same hotel\n",
    "            else:\n",
    "                profile.append(profile[-1])\n",
    "        \n",
    "    return(profile)"
   ]
  },
  {
   "cell_type": "code",
   "execution_count": 24,
   "metadata": {},
   "outputs": [],
   "source": [
    "#using a competitor profile, the function forcasts the profit using the giving model\n",
    "def forecast_profit(competitor_profile):\n",
    "    profit = 0\n",
    "    for i in range(0,len(competitor_profile)):\n",
    "        profit += (750 + 50*(i+1))/(competitor_profile[i]+1)  \n",
    "    return profit"
   ]
  },
  {
   "cell_type": "code",
   "execution_count": 25,
   "metadata": {},
   "outputs": [
    {
     "data": {
      "text/plain": [
       "3850.0"
      ]
     },
     "execution_count": 25,
     "metadata": {},
     "output_type": "execute_result"
    }
   ],
   "source": [
    "#testing example\n",
    "forecast_profit([0,1,1,2,2,2,3,3,3,3])"
   ]
  },
  {
   "cell_type": "code",
   "execution_count": 26,
   "metadata": {},
   "outputs": [],
   "source": [
    "#gets all the profile options into a set so that we can randomly sample from it, \n",
    "#giving each profile option an equal chance of being picked\n",
    "def get_profile_options(): \n",
    "    profile_options = []\n",
    "    for i in range(100000):\n",
    "        profile = generate_competitor_profile()\n",
    "        if profile not in profile_options:\n",
    "            profile_options.append(profile)\n",
    "    profile_options.sort()\n",
    "    return profile_options\n",
    "\n",
    "profile_options = get_profile_options()"
   ]
  },
  {
   "cell_type": "code",
   "execution_count": 27,
   "metadata": {},
   "outputs": [],
   "source": [
    "#uses a monte carlo simulation to get the expected profit\n",
    "def expected_value_monte_carlo():\n",
    "    total_profits = 0\n",
    "    for i in range(1000):\n",
    "        total_profits += forecast_profit(random.choice(profile_options))\n",
    "    return(total_profits/1000)\n",
    "        "
   ]
  },
  {
   "cell_type": "code",
   "execution_count": 28,
   "metadata": {},
   "outputs": [
    {
     "name": "stdout",
     "output_type": "stream",
     "text": [
      "The expected profit is $5,340.08\n"
     ]
    }
   ],
   "source": [
    "print(\"The expected profit is\", \"${:,.2f}\".format(expected_value_monte_carlo()))"
   ]
  }
 ],
 "metadata": {
  "kernelspec": {
   "display_name": "Python 3",
   "language": "python",
   "name": "python3"
  },
  "language_info": {
   "codemirror_mode": {
    "name": "ipython",
    "version": 3
   },
   "file_extension": ".py",
   "mimetype": "text/x-python",
   "name": "python",
   "nbconvert_exporter": "python",
   "pygments_lexer": "ipython3",
   "version": "3.7.4"
  }
 },
 "nbformat": 4,
 "nbformat_minor": 2
}
